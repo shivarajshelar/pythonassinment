{
  "nbformat": 4,
  "nbformat_minor": 0,
  "metadata": {
    "colab": {
      "name": "pythonassignment.ipynb",
      "provenance": []
    },
    "kernelspec": {
      "name": "python3",
      "display_name": "Python 3"
    },
    "language_info": {
      "name": "python"
    }
  },
  "cells": [
    {
      "cell_type": "code",
      "execution_count": null,
      "metadata": {
        "colab": {
          "base_uri": "https://localhost:8080/"
        },
        "id": "hSNTi4SbIpZU",
        "outputId": "16030930-7e9e-426f-d5af-14d9537703b7"
      },
      "outputs": [
        {
          "output_type": "stream",
          "name": "stdout",
          "text": [
            "[6, 12, 18]\n",
            "[4, 12, 20, 28]\n",
            "[6, 12, 18, 4, 12, 20, 28]\n"
          ]
        }
      ],
      "source": [
        "# problem 1\n",
        "listOne = [3, 6, 9, 12, 15, 18, 21]\n",
        "listTwo = [4, 8, 12, 16, 20, 24, 28]\n",
        "o = []\n",
        "e = []\n",
        "\n",
        "for i in range(len(listOne)):\n",
        "    if i % 2 == 1:\n",
        "        a=listOne[i]\n",
        "        o.append(a)\n",
        "print(o)\n",
        "\n",
        "for i in range(len(listTwo)):\n",
        "    if i % 2 == 0:\n",
        "        a=listTwo[i]\n",
        "        e.append(a)\n",
        "print(e)\n",
        "\n",
        "o.extend(e)\n",
        "print(o)"
      ]
    },
    {
      "cell_type": "code",
      "source": [
        "# problem 2\n",
        "listOne = [3, 6, 9, 12, 15, 18, 21]\n",
        "listTwo = [4, 8, 12, 16, 20, 24, 28]\n",
        "listOne.extend(listTwo)\n",
        "a= set(listOne)\n",
        "for i in a:\n",
        "    print(i,'number comes ',listOne.count(i),'times')"
      ],
      "metadata": {
        "colab": {
          "base_uri": "https://localhost:8080/"
        },
        "id": "I5OF7OwSIwXb",
        "outputId": "6df64887-399d-4580-ef9f-40d5fbccc568"
      },
      "execution_count": null,
      "outputs": [
        {
          "output_type": "stream",
          "name": "stdout",
          "text": [
            "3 number comes  1 times\n",
            "4 number comes  1 times\n",
            "6 number comes  1 times\n",
            "8 number comes  1 times\n",
            "9 number comes  1 times\n",
            "12 number comes  2 times\n",
            "15 number comes  1 times\n",
            "16 number comes  1 times\n",
            "18 number comes  1 times\n",
            "20 number comes  1 times\n",
            "21 number comes  1 times\n",
            "24 number comes  1 times\n",
            "28 number comes  1 times\n"
          ]
        }
      ]
    },
    {
      "cell_type": "code",
      "source": [
        "# problem 3\n",
        "listOne = [3, 6, 9, 12, 15, 18, 21]\n",
        "listTwo = [4, 8, 12, 16, 20, 24, 28]\n",
        "listOne.extend(listTwo)\n",
        "print(listOne)\n",
        "o = [ ]\n",
        "\n",
        "for i in listOne:\n",
        "     \n",
        "    if i % 2 == 1 :\n",
        "        o.append(i)\n",
        "\n",
        "print(o)\n",
        " "
      ],
      "metadata": {
        "colab": {
          "base_uri": "https://localhost:8080/"
        },
        "id": "cZW3DzARIwZp",
        "outputId": "60885615-8c3b-4a84-a626-27441289b358"
      },
      "execution_count": null,
      "outputs": [
        {
          "output_type": "stream",
          "name": "stdout",
          "text": [
            "[3, 6, 9, 12, 15, 18, 21, 4, 8, 12, 16, 20, 24, 28]\n",
            "[3, 9, 15, 21]\n"
          ]
        }
      ]
    },
    {
      "cell_type": "code",
      "source": [
        "# problem 4\n",
        "lis = [ ]\n",
        "for i in range(1,30 + 1):\n",
        "    if i <= 5 or 25 <= i:\n",
        "        i= i**2\n",
        "        lis.append(i)  \n",
        "        \n",
        "    else:\n",
        "        lis.append(i)\n",
        "print(lis)     "
      ],
      "metadata": {
        "colab": {
          "base_uri": "https://localhost:8080/"
        },
        "id": "IRxhGkdgIwcY",
        "outputId": "3338e805-17f9-4b13-c35e-f51865928f0b"
      },
      "execution_count": null,
      "outputs": [
        {
          "output_type": "stream",
          "name": "stdout",
          "text": [
            "[1, 4, 9, 16, 25, 6, 7, 8, 9, 10, 11, 12, 13, 14, 15, 16, 17, 18, 19, 20, 21, 22, 23, 24, 625, 676, 729, 784, 841, 900]\n"
          ]
        }
      ]
    },
    {
      "cell_type": "code",
      "source": [
        "# problem 5"
      ],
      "metadata": {
        "id": "syUdoz6c9ixH"
      },
      "execution_count": null,
      "outputs": []
    },
    {
      "cell_type": "code",
      "source": [
        "# problem 6"
      ],
      "metadata": {
        "id": "qzqoVC-A9tsp"
      },
      "execution_count": null,
      "outputs": []
    },
    {
      "cell_type": "code",
      "source": [
        "#problem 7\n",
        "a = [0,1,2,3,4,5,67,76]\n",
        "for i in range(0,len(a),2):\n",
        "    b = a.pop(i)\n",
        "    a.insert(i+1,b)\n",
        "\n",
        "print(a)    "
      ],
      "metadata": {
        "colab": {
          "base_uri": "https://localhost:8080/"
        },
        "id": "fLi2-NirIwiZ",
        "outputId": "17c55c4c-04f9-4359-a890-854bc8cacc56"
      },
      "execution_count": null,
      "outputs": [
        {
          "output_type": "stream",
          "name": "stdout",
          "text": [
            "[1, 0, 3, 2, 5, 4, 76, 67]\n"
          ]
        }
      ]
    },
    {
      "cell_type": "code",
      "source": [
        " \n",
        "#problem 8\n",
        "a = [1,2,3,4,5,6,7,8,9]\n",
        "ab = [ ]\n",
        "for i in a:\n",
        "    for j in a:\n",
        "        ab.append([i,j])\n",
        "          \n",
        "print(ab)\n"
      ],
      "metadata": {
        "colab": {
          "base_uri": "https://localhost:8080/"
        },
        "id": "PCwp6ekBilMK",
        "outputId": "a1b45994-6dd8-493f-ff6c-23aec8215a00"
      },
      "execution_count": null,
      "outputs": [
        {
          "output_type": "stream",
          "name": "stdout",
          "text": [
            "1 9\n",
            "2 9\n",
            "3 9\n",
            "4 9\n",
            "5 9\n",
            "6 9\n",
            "7 9\n",
            "8 9\n",
            "9 9\n",
            "[[1, 1], [1, 2], [1, 3], [1, 4], [1, 5], [1, 6], [1, 7], [1, 8], [1, 9], [2, 1], [2, 2], [2, 3], [2, 4], [2, 5], [2, 6], [2, 7], [2, 8], [2, 9], [3, 1], [3, 2], [3, 3], [3, 4], [3, 5], [3, 6], [3, 7], [3, 8], [3, 9], [4, 1], [4, 2], [4, 3], [4, 4], [4, 5], [4, 6], [4, 7], [4, 8], [4, 9], [5, 1], [5, 2], [5, 3], [5, 4], [5, 5], [5, 6], [5, 7], [5, 8], [5, 9], [6, 1], [6, 2], [6, 3], [6, 4], [6, 5], [6, 6], [6, 7], [6, 8], [6, 9], [7, 1], [7, 2], [7, 3], [7, 4], [7, 5], [7, 6], [7, 7], [7, 8], [7, 9], [8, 1], [8, 2], [8, 3], [8, 4], [8, 5], [8, 6], [8, 7], [8, 8], [8, 9], [9, 1], [9, 2], [9, 3], [9, 4], [9, 5], [9, 6], [9, 7], [9, 8], [9, 9]]\n"
          ]
        }
      ]
    },
    {
      "cell_type": "code",
      "source": [
        "# problem 9\n",
        "\n",
        "\n",
        "lis = [[4, 8, 12],[ 16, 20, 24, 28],[4,576],[4,8,12]]\n",
        "\n",
        "lis1 = [ ]\n",
        "\n",
        "for i in lis:\n",
        "    if i not in lis1:\n",
        "        lis1.append(i)\n",
        "\n",
        "print(lis1)\n",
        "        \n",
        "\n",
        "\n",
        "\n",
        "\n",
        "\n",
        "\n",
        "\n"
      ],
      "metadata": {
        "colab": {
          "base_uri": "https://localhost:8080/"
        },
        "id": "CsoSEJAFIwkq",
        "outputId": "83dcbc3f-af97-4dbe-c5c7-ecb28c15dbcb"
      },
      "execution_count": null,
      "outputs": [
        {
          "output_type": "stream",
          "name": "stdout",
          "text": [
            "[[4, 8, 12], [16, 20, 24, 28], [4, 576]]\n"
          ]
        }
      ]
    },
    {
      "cell_type": "code",
      "source": [
        ""
      ],
      "metadata": {
        "id": "olAEVlA9_6GG"
      },
      "execution_count": null,
      "outputs": []
    }
  ]
}